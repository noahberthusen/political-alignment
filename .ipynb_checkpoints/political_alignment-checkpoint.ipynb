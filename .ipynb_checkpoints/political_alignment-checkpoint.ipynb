{
 "cells": [
  {
   "cell_type": "code",
   "execution_count": 1,
   "metadata": {},
   "outputs": [],
   "source": [
    "import praw\n",
    "import numpy as np\n",
    "import pandas as pd"
   ]
  },
  {
   "cell_type": "code",
   "execution_count": 2,
   "metadata": {},
   "outputs": [],
   "source": [
    "reddit = praw.Reddit(client_id='Wa_QQy6c8J6w_Q',\n",
    "                     client_secret='i7XCwT6iYlE4O1wLqjJCfDRsFV0',\n",
    "                     user_agent='diggity_diggity_doge')"
   ]
  },
  {
   "cell_type": "code",
   "execution_count": 6,
   "metadata": {},
   "outputs": [],
   "source": [
    "common_words = [\"http\",\"https\",\"com\",\"org\",\"www\",\"imgur\",\"r\",\"nbsp\",\"a\",\"about\",\"all\",\"are\",\"an\",\"also\",\"and\",\"as\",\"at\",\"be\",\"because\",\"but\",\"by\",\"can\",\"come\",\"could\",\"day\",\"do\",\"deleted\",\"even\",\"find\",\"first\",\"for\",\"from\",\"get\",\"give\",\"go\",\"have\",\"he\",\"her\",\"here\",\"him\",\"has\",\"his\",\"how\",\"i\",\"is\",\"if\",\"in\",\"into\",\"it\",\"its\",\"it's\",\"i'm\",\"just\",\"know\",\"like\",\"look\",\"make\",\"man\",\"many\",\"me\",\"more\",\"my\",\"new\",\"no\",\"not\",\"now\",\"of\",\"on\",\"one\",\"only\",\"or\",\"other\",\"our\",\"out\",\"people\",\"say\",\"see\",\"she\",\"so\",\"some\",\"take\",\"tell\",\"than\",\"that\",\"the\",\"their\",\"them\",\"then\",\"there\",\"these\",\"they\",\"thing\",\"think\",\"this\",\"those\",\"time\",\"to\",\"two\",\"up\",\"use\",\"very\",\"want\",\"was\",\"way\",\"we\",\"were\",\"well\",\"what\",\"when\",\"which\",\"who\",\"will\",\"with\",\"would\",\"year\",\"you\",\"your\"]\n",
    "texts = []\n",
    "labels = []"
   ]
  },
  {
   "cell_type": "code",
   "execution_count": 4,
   "metadata": {},
   "outputs": [],
   "source": [
    "def get_comments_top_year(subreddit, number, label):\n",
    "    for submission in reddit.subreddit(subreddit).top('year', limit=number):\n",
    "        submission.comment_sort = 'top'\n",
    "        submission.comments.replace_more(limit=0)\n",
    "        for top_level_comment in submission.comments:\n",
    "            texts.append(parse_comment(top_level_comment.body))\n",
    "            labels.append(label)\n",
    "            \n",
    "def get_comments_top_all(subreddit, number, label):\n",
    "    for submission in reddit.subreddit(subreddit).top(limit=number):\n",
    "        submission.comment_sort = 'top'\n",
    "        submission.comments.replace_more(limit=0)\n",
    "        for top_level_comment in submission.comments:\n",
    "            texts.append(parse_comment(top_level_comment.body))\n",
    "            labels.append(label)\n",
    "            \n",
    "def get_comments_hot(subreddit, number, label):\n",
    "    for submission in reddit.subreddit(subreddit).hot(limit=number):\n",
    "        submission.comment_sort = 'top'\n",
    "        submission.comments.replace_more(limit=0)\n",
    "        for top_level_comment in submission.comments:\n",
    "            texts.append(parse_comment(top_level_comment.body))\n",
    "            labels.append(label)\n",
    "            \n",
    "def parse_comment(comment):\n",
    "        comment_arr = []\n",
    "        new_comment = comment.translate ({ord(c): \" \" for c in \"!@#$%^&*()[]{};:,./<>?\\|`~-=_+\"})\n",
    "        for word in new_comment.split():\n",
    "            if word.lower() not in common_words:\n",
    "                comment_arr.append(word.lower())\n",
    "        return \" \".join(comment_arr)"
   ]
  },
  {
   "cell_type": "code",
   "execution_count": null,
   "metadata": {},
   "outputs": [],
   "source": [
    "right = ['The_Donald', 'conservative', 'republican']\n",
    "left = ['esist', 'FuckTheAltRight', 'liberal']\n",
    "\n",
    "for sub in right:\n",
    "    get_comments_top_year(sub, 150, 0)\n",
    "    print('Done with', sub)\n",
    "    \n",
    "for sub in left:\n",
    "    get_comments_top_year(sub, 170, 1)\n",
    "    print('Done with', sub)"
   ]
  },
  {
   "cell_type": "code",
   "execution_count": null,
   "metadata": {},
   "outputs": [],
   "source": [
    "print(len(texts))"
   ]
  },
  {
   "cell_type": "code",
   "execution_count": null,
   "metadata": {},
   "outputs": [],
   "source": [
    "df = pd.DataFrame(texts)"
   ]
  },
  {
   "cell_type": "code",
   "execution_count": null,
   "metadata": {},
   "outputs": [],
   "source": [
    "labels.count(0)\n"
   ]
  },
  {
   "cell_type": "code",
   "execution_count": null,
   "metadata": {},
   "outputs": [],
   "source": [
    "labels.count(1)"
   ]
  },
  {
   "cell_type": "code",
   "execution_count": null,
   "metadata": {},
   "outputs": [],
   "source": [
    "from keras.preprocessing.text import Tokenizer\n",
    "from keras.preprocessing.sequence import pad_sequences\n",
    "\n",
    "maxlen = 100\n",
    "training_samples = 40000\n",
    "max_words = 10000\n",
    "\n",
    "tokenizer = Tokenizer(num_words=max_words)\n",
    "tokenizer.fit_on_texts(texts)\n",
    "sequences = tokenizer.texts_to_sequences(texts)\n",
    "word_index = tokenizer.word_index\n",
    "print('Found %s unique tokens.' % len(word_index))\n",
    "\n",
    "data = pad_sequences(sequences, maxlen=maxlen)\n",
    "\n",
    "labels = np.asarray(labels)\n",
    "print('Shape of data tensor:', data.shape)\n",
    "print('Shape of label tensor:', labels.shape)\n",
    "\n",
    "indices = np.arange(data.shape[0])\n",
    "np.random.shuffle(indices)\n",
    "data = data[indices]\n",
    "labels = labels[indices]\n",
    "\n",
    "x_train = data[:training_samples]\n",
    "y_train = labels[:training_samples]\n",
    "x_val = data[training_samples:]\n",
    "y_val = labels[training_samples:]"
   ]
  },
  {
   "cell_type": "code",
   "execution_count": null,
   "metadata": {},
   "outputs": [],
   "source": [
    "from keras.models import Sequential\n",
    "from keras.layers import Dense, LSTM, Embedding, SimpleRNN\n",
    "\n",
    "max_features = 10000\n",
    "model = Sequential()\n",
    "model.add(Embedding(max_features, 32))\n",
    "model.add(LSTM(32))\n",
    "model.add(Dense(1, activation='sigmoid'))\n",
    "\n",
    "model.compile(optimizer='rmsprop', loss='binary_crossentropy', metrics=['acc'])\n",
    "history = model.fit(x_train, y_train,\n",
    "                    epochs=5,\n",
    "                    batch_size=32,\n",
    "                    validation_data=(x_val, y_val))"
   ]
  },
  {
   "cell_type": "code",
   "execution_count": null,
   "metadata": {},
   "outputs": [],
   "source": [
    "import matplotlib.pyplot as plt\n",
    "\n",
    "acc = history.history['acc']\n",
    "val_acc = history.history['val_acc']\n",
    "loss = history.history['loss']\n",
    "val_loss = history.history['val_loss']\n",
    "\n",
    "epochs = range(1, len(acc) + 1)\n",
    "\n",
    "plt.plot(epochs, acc, 'bo', label='Training acc')\n",
    "plt.plot(epochs, val_acc, 'b', label='Validation acc')\n",
    "\n",
    "plt.title('Training and validation accuracy')\n",
    "plt.legend()\n",
    "\n",
    "plt.figure()\n",
    "\n",
    "plt.plot(epochs, loss, 'bo', label='Training loss')\n",
    "plt.plot(epochs, val_loss, 'b', label='Validation loss')\n",
    "plt.title('Training and validation loss')\n",
    "plt.legend()\n",
    "\n",
    "plt.show()"
   ]
  },
  {
   "cell_type": "code",
   "execution_count": null,
   "metadata": {},
   "outputs": [],
   "source": [
    "from sklearn.metrics import confusion_matrix\n",
    "import itertools\n",
    "import matplotlib.pyplot as plt"
   ]
  },
  {
   "cell_type": "code",
   "execution_count": null,
   "metadata": {},
   "outputs": [],
   "source": [
    "rounded_predictions = model.predict_classes(x_val, batch_size=10, verbose=0)\n",
    "cm = confusion_matrix(y_val, rounded_predictions)"
   ]
  },
  {
   "cell_type": "code",
   "execution_count": null,
   "metadata": {},
   "outputs": [],
   "source": [
    "def plot_confusion_matrix(cm, classes,\n",
    "                          normalize=False,\n",
    "                          title='Confusion matrix',\n",
    "                          cmap=plt.cm.Blues):\n",
    "    \"\"\"\n",
    "    This function prints and plots the confusion matrix.\n",
    "    Normalization can be applied by setting `normalize=True`.\n",
    "    \"\"\"\n",
    "    if normalize:\n",
    "        cm = cm.astype('float') / cm.sum(axis=1)[:, np.newaxis]\n",
    "        print(\"Normalized confusion matrix\")\n",
    "    else:\n",
    "        print('Confusion matrix, without normalization')\n",
    "\n",
    "    print(cm)\n",
    "\n",
    "    plt.imshow(cm, interpolation='nearest', cmap=cmap)\n",
    "    plt.title(title)\n",
    "    plt.colorbar()\n",
    "    tick_marks = np.arange(len(classes))\n",
    "    plt.xticks(tick_marks, classes, rotation=45)\n",
    "    plt.yticks(tick_marks, classes)\n",
    "\n",
    "    fmt = '.2f' if normalize else 'd'\n",
    "    thresh = cm.max() / 2.\n",
    "    for i, j in itertools.product(range(cm.shape[0]), range(cm.shape[1])):\n",
    "        plt.text(j, i, format(cm[i, j], fmt),\n",
    "                 horizontalalignment=\"center\",\n",
    "                 color=\"white\" if cm[i, j] > thresh else \"black\")\n",
    "\n",
    "    plt.ylabel('True label')\n",
    "    plt.xlabel('Predicted label')\n"
   ]
  },
  {
   "cell_type": "code",
   "execution_count": null,
   "metadata": {},
   "outputs": [],
   "source": [
    "cm_plot_labels = ['conservative', 'liberal']\n",
    "plot_confusion_matrix(cm, cm_plot_labels, title='Confusion Matrix')"
   ]
  },
  {
   "cell_type": "code",
   "execution_count": null,
   "metadata": {},
   "outputs": [],
   "source": [
    "test_sequences, test_labels = get_comments_hot('FuckTheAltRight', 5, 0)\n",
    "test_tokens = tokenizer.texts_to_sequences(test_sequences)\n",
    "test_tokens = pad_sequences(test_tokens, maxlen=maxlen)\n",
    "test_predictions = model.predict_classes(test_tokens, batch_size=10, verbose=0)"
   ]
  },
  {
   "cell_type": "code",
   "execution_count": null,
   "metadata": {},
   "outputs": [],
   "source": [
    "unique, counts = np.unique(test_predictions, return_counts=True)\n",
    "dict(zip(unique, counts))"
   ]
  },
  {
   "cell_type": "code",
   "execution_count": null,
   "metadata": {},
   "outputs": [],
   "source": []
  }
 ],
 "metadata": {
  "kernelspec": {
   "display_name": "Python 3",
   "language": "python",
   "name": "python3"
  },
  "language_info": {
   "codemirror_mode": {
    "name": "ipython",
    "version": 3
   },
   "file_extension": ".py",
   "mimetype": "text/x-python",
   "name": "python",
   "nbconvert_exporter": "python",
   "pygments_lexer": "ipython3",
   "version": "3.6.6"
  }
 },
 "nbformat": 4,
 "nbformat_minor": 2
}
