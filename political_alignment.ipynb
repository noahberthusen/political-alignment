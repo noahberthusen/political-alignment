{
 "cells": [
  {
   "cell_type": "code",
   "execution_count": 1,
   "metadata": {},
   "outputs": [],
   "source": [
    "import praw\n",
    "import numpy as np\n",
    "import pandas as pd"
   ]
  },
  {
   "cell_type": "code",
   "execution_count": 2,
   "metadata": {},
   "outputs": [],
   "source": [
    "reddit = praw.Reddit(client_id='Wa_QQy6c8J6w_Q',\n",
    "                     client_secret='i7XCwT6iYlE4O1wLqjJCfDRsFV0',\n",
    "                     user_agent='diggity_diggity_doge')"
   ]
  },
  {
   "cell_type": "code",
   "execution_count": 3,
   "metadata": {},
   "outputs": [],
   "source": [
    "common_words = set([\"http\",\"https\",\"com\",\"org\",\"www\",\"imgur\",\"r\",\"nbsp\",\"did\",\"had\",\"us\",\"been\",\"a\",\"about\",\"all\",\"are\",\"an\",\"also\",\"and\",\"as\",\"at\",\"be\",\"because\",\"but\",\"by\",\"can\",\"come\",\"could\",\"day\",\"do\",\"deleted\",\"even\",\"find\",\"first\",\"for\",\"from\",\"get\",\"give\",\"go\",\"have\",\"he\",\"her\",\"here\",\"him\",\"has\",\"his\",\"how\",\"i\",\"is\",\"if\",\"in\",\"into\",\"it\",\"its\",\"it's\",\"i'm\",\"just\",\"know\",\"like\",\"look\",\"make\",\"man\",\"many\",\"me\",\"more\",\"my\",\"new\",\"no\",\"not\",\"now\",\"of\",\"on\",\"one\",\"only\",\"or\",\"other\",\"our\",\"out\",\"people\",\"say\",\"see\",\"she\",\"so\",\"some\",\"take\",\"tell\",\"than\",\"that\",\"the\",\"their\",\"them\",\"then\",\"there\",\"these\",\"they\",\"thing\",\"think\",\"this\",\"those\",\"time\",\"to\",\"two\",\"up\",\"use\",\"very\",\"want\",\"was\",\"way\",\"we\",\"were\",\"well\",\"what\",\"when\",\"which\",\"who\",\"will\",\"with\",\"would\",\"year\",\"you\",\"your\"])\n",
    "texts = []\n",
    "labels = []"
   ]
  },
  {
   "cell_type": "code",
   "execution_count": 4,
   "metadata": {},
   "outputs": [],
   "source": [
    "def get_comments_top_year(subreddit, number, label):\n",
    "    for submission in reddit.subreddit(subreddit).top('year', limit=number):\n",
    "        submission.comment_sort = 'top'\n",
    "        submission.comments.replace_more(limit=0)\n",
    "        for comment in submission.comments.list():\n",
    "            texts.append(parse_comment(comment.body))\n",
    "            labels.append(label)\n",
    "            \n",
    "def get_comments_top_all(subreddit, number, label):\n",
    "    for submission in reddit.subreddit(subreddit).top(limit=number):\n",
    "        submission.comment_sort = 'top'\n",
    "        submission.comments.replace_more(limit=0)\n",
    "        for comment in submission.comments.list():\n",
    "            texts.append(parse_comment(comment.body))\n",
    "            labels.append(label)\n",
    "            \n",
    "def get_comments_hot(subreddit, number, label):\n",
    "    for submission in reddit.subreddit(subreddit).hot(limit=number):\n",
    "        submission.comment_sort = 'top'\n",
    "        submission.comments.replace_more(limit=0)\n",
    "        for comment in submission.comments.list():\n",
    "            texts.append(parse_comment(comment.body))\n",
    "            labels.append(label)\n",
    "            \n",
    "def parse_comment(comment):\n",
    "        comment_arr = []\n",
    "        new_comment = comment.translate ({ord(c): \" \" for c in \"!@#$%^&*()[]{};:,./<>?\\|`~-=_+\"})\n",
    "        for word in new_comment.split():\n",
    "            if word.lower() not in common_words:\n",
    "                comment_arr.append(word.lower())\n",
    "        return \" \".join(comment_arr)"
   ]
  },
  {
   "cell_type": "code",
   "execution_count": 5,
   "metadata": {},
   "outputs": [
    {
     "name": "stdout",
     "output_type": "stream",
     "text": [
      "Done with The_Donald\n",
      "Done with conservative\n",
      "Done with republican\n",
      "Done with esist\n",
      "Done with FuckTheAltRight\n",
      "Done with liberal\n"
     ]
    }
   ],
   "source": [
    "right = ['The_Donald', 'conservative', 'republican']\n",
    "left = ['esist', 'FuckTheAltRight', 'liberal']\n",
    "\n",
    "for sub in right:\n",
    "    get_comments_top_year(sub, 10, 0)\n",
    "#     get_comments_hot(sub, 5, 0)\n",
    "    print('Done with', sub)\n",
    "    \n",
    "\n",
    "for sub in left:\n",
    "    get_comments_top_year(sub, 12, 1)\n",
    "#     get_comments_hot(sub, 5, 1)\n",
    "    print('Done with', sub)"
   ]
  },
  {
   "cell_type": "code",
   "execution_count": 6,
   "metadata": {},
   "outputs": [
    {
     "name": "stdout",
     "output_type": "stream",
     "text": [
      "19976\n"
     ]
    }
   ],
   "source": [
    "print(len(texts))"
   ]
  },
  {
   "cell_type": "code",
   "execution_count": 7,
   "metadata": {},
   "outputs": [
    {
     "name": "stderr",
     "output_type": "stream",
     "text": [
      "Using TensorFlow backend.\n"
     ]
    },
    {
     "name": "stdout",
     "output_type": "stream",
     "text": [
      "Found 25907 unique tokens.\n",
      "Shape of data tensor: (19976, 100)\n",
      "Shape of label tensor: (19976,)\n"
     ]
    }
   ],
   "source": [
    "from keras.preprocessing.text import Tokenizer\n",
    "from keras.preprocessing.sequence import pad_sequences\n",
    "\n",
    "maxlen = 100\n",
    "training_samples = 10000\n",
    "max_words = 10000\n",
    "\n",
    "tokenizer = Tokenizer(num_words=max_words)\n",
    "tokenizer.fit_on_texts(texts)\n",
    "sequences = tokenizer.texts_to_sequences(texts)\n",
    "word_index = tokenizer.word_index\n",
    "print('Found %s unique tokens.' % len(word_index))\n",
    "\n",
    "data = pad_sequences(sequences, maxlen=maxlen)\n",
    "\n",
    "labels = np.asarray(labels)\n",
    "print('Shape of data tensor:', data.shape)\n",
    "print('Shape of label tensor:', labels.shape)\n",
    "\n",
    "indices = np.arange(data.shape[0])\n",
    "np.random.shuffle(indices)\n",
    "data = data[indices]\n",
    "labels = labels[indices]\n",
    "\n",
    "x_train = data[:training_samples]\n",
    "y_train = labels[:training_samples]\n",
    "x_val = data[training_samples:11000]\n",
    "y_val = labels[training_samples:11000]"
   ]
  },
  {
   "cell_type": "code",
   "execution_count": 8,
   "metadata": {},
   "outputs": [
    {
     "data": {
      "text/plain": [
       "(10000, 100)"
      ]
     },
     "execution_count": 8,
     "metadata": {},
     "output_type": "execute_result"
    }
   ],
   "source": [
    "x_train.shape"
   ]
  },
  {
   "cell_type": "code",
   "execution_count": 9,
   "metadata": {},
   "outputs": [
    {
     "name": "stdout",
     "output_type": "stream",
     "text": [
      "Train on 10000 samples, validate on 1000 samples\n",
      "Epoch 1/5\n",
      "10000/10000 [==============================] - 27s 3ms/step - loss: 0.6819 - acc: 0.5596 - val_loss: 0.6583 - val_acc: 0.5840\n",
      "Epoch 2/5\n",
      "10000/10000 [==============================] - 21s 2ms/step - loss: 0.5272 - acc: 0.7450 - val_loss: 0.6832 - val_acc: 0.6230 - loss: 0.5739 - - ETA: 17s -  - ETA: 14s - loss - ETA: 13s - loss -  - ETA: 8s - loss: 0.5405 - acc: 0.73 - ETA: 7s - loss:  - ETA: 6s - loss\n",
      "Epoch 3/5\n",
      "10000/10000 [==============================] - 22s 2ms/step - loss: 0.4087 - acc: 0.8174 - val_loss: 0.8161 - val_acc: 0.5960: 1s - loss: - ETA: 0s - loss: 0.4104 - a\n",
      "Epoch 4/5\n",
      "10000/10000 [==============================] - 23s 2ms/step - loss: 0.2665 - acc: 0.8795 - val_loss: 0.9390 - val_acc: 0.5900\n",
      "Epoch 5/5\n",
      "10000/10000 [==============================] - 24s 2ms/step - loss: 0.2268 - acc: 0.9011 - val_loss: 1.0733 - val_acc: 0.5820A: 1s - loss: 0\n"
     ]
    }
   ],
   "source": [
    "from keras.models import Sequential\n",
    "from keras.layers import Dense, LSTM, Embedding, SimpleRNN\n",
    "\n",
    "max_features = 10000\n",
    "model = Sequential()\n",
    "model.add(Embedding(max_features, 32))\n",
    "model.add(SimpleRNN(32))\n",
    "model.add(Dense(1, activation='sigmoid'))\n",
    "\n",
    "model.compile(optimizer='rmsprop', loss='binary_crossentropy', metrics=['acc'])\n",
    "history = model.fit(x_train, y_train,\n",
    "                    epochs=5,\n",
    "                    batch_size=16,\n",
    "                    validation_data=(x_val, y_val))"
   ]
  },
  {
   "cell_type": "code",
   "execution_count": 10,
   "metadata": {},
   "outputs": [
    {
     "data": {
      "text/plain": [
       "<Figure size 640x480 with 1 Axes>"
      ]
     },
     "metadata": {},
     "output_type": "display_data"
    },
    {
     "data": {
      "text/plain": [
       "<Figure size 640x480 with 1 Axes>"
      ]
     },
     "metadata": {},
     "output_type": "display_data"
    }
   ],
   "source": [
    "import matplotlib.pyplot as plt\n",
    "\n",
    "acc = history.history['acc']\n",
    "val_acc = history.history['val_acc']\n",
    "loss = history.history['loss']\n",
    "val_loss = history.history['val_loss']\n",
    "\n",
    "epochs = range(1, len(acc) + 1)\n",
    "\n",
    "plt.plot(epochs, acc, 'bo', label='Training acc')\n",
    "plt.plot(epochs, val_acc, 'b', label='Validation acc')\n",
    "\n",
    "plt.title('Training and validation accuracy')\n",
    "plt.legend()\n",
    "\n",
    "plt.figure()\n",
    "\n",
    "plt.plot(epochs, loss, 'bo', label='Training loss')\n",
    "plt.plot(epochs, val_loss, 'b', label='Validation loss')\n",
    "plt.title('Training and validation loss')\n",
    "plt.legend()\n",
    "\n",
    "plt.show()"
   ]
  },
  {
   "cell_type": "code",
   "execution_count": 11,
   "metadata": {},
   "outputs": [],
   "source": [
    "from sklearn.metrics import confusion_matrix\n",
    "import itertools\n",
    "import matplotlib.pyplot as plt"
   ]
  },
  {
   "cell_type": "code",
   "execution_count": 12,
   "metadata": {},
   "outputs": [],
   "source": [
    "rounded_predictions = model.predict_classes(x_val, batch_size=10, verbose=0)\n",
    "cm = confusion_matrix(y_val, rounded_predictions)"
   ]
  },
  {
   "cell_type": "code",
   "execution_count": 13,
   "metadata": {},
   "outputs": [],
   "source": [
    "def plot_confusion_matrix(cm, classes,\n",
    "                          normalize=False,\n",
    "                          title='Confusion matrix',\n",
    "                          cmap=plt.cm.Blues):\n",
    "    \"\"\"\n",
    "    This function prints and plots the confusion matrix.\n",
    "    Normalization can be applied by setting `normalize=True`.\n",
    "    \"\"\"\n",
    "    if normalize:\n",
    "        cm = cm.astype('float') / cm.sum(axis=1)[:, np.newaxis]\n",
    "        print(\"Normalized confusion matrix\")\n",
    "    else:\n",
    "        print('Confusion matrix, without normalization')\n",
    "\n",
    "    print(cm)\n",
    "\n",
    "    plt.imshow(cm, interpolation='nearest', cmap=cmap)\n",
    "    plt.title(title)\n",
    "    plt.colorbar()\n",
    "    tick_marks = np.arange(len(classes))\n",
    "    plt.xticks(tick_marks, classes, rotation=45)\n",
    "    plt.yticks(tick_marks, classes)\n",
    "\n",
    "    fmt = '.2f' if normalize else 'd'\n",
    "    thresh = cm.max() / 2.\n",
    "    for i, j in itertools.product(range(cm.shape[0]), range(cm.shape[1])):\n",
    "        plt.text(j, i, format(cm[i, j], fmt),\n",
    "                 horizontalalignment=\"center\",\n",
    "                 color=\"white\" if cm[i, j] > thresh else \"black\")\n",
    "\n",
    "    plt.ylabel('True label')\n",
    "    plt.xlabel('Predicted label')\n"
   ]
  },
  {
   "cell_type": "code",
   "execution_count": 14,
   "metadata": {},
   "outputs": [
    {
     "name": "stdout",
     "output_type": "stream",
     "text": [
      "Confusion matrix, without normalization\n",
      "[[240 220]\n",
      " [198 342]]\n"
     ]
    },
    {
     "data": {
      "image/png": "[encoded data removed]",
      "text/plain": [
       "<Figure size 432x288 with 2 Axes>"
      ]
     },
     "metadata": {},
     "output_type": "display_data"
    }
   ],
   "source": [
    "cm_plot_labels = ['conservative', 'liberal']\n",
    "plot_confusion_matrix(cm, cm_plot_labels, title='Confusion Matrix')"
   ]
  },
  {
   "cell_type": "code",
   "execution_count": 15,
   "metadata": {},
   "outputs": [],
   "source": [
    "texts = []\n",
    "labels = []\n",
    "get_comments_top_year('me_irl', 5, 0)\n",
    "test_tokens = tokenizer.texts_to_sequences(texts)\n",
    "test_tokens = pad_sequences(test_tokens, maxlen=maxlen)\n",
    "test_predictions = model.predict_classes(test_tokens, batch_size=10, verbose=0)"
   ]
  },
  {
   "cell_type": "code",
   "execution_count": 16,
   "metadata": {},
   "outputs": [
    {
     "data": {
      "text/plain": [
       "{0: 1049, 1: 887}"
      ]
     },
     "execution_count": 16,
     "metadata": {},
     "output_type": "execute_result"
    }
   ],
   "source": [
    "unique, counts = np.unique(test_predictions, return_counts=True)\n",
    "dict(zip(unique, counts))"
   ]
  },
  {
   "cell_type": "code",
   "execution_count": null,
   "metadata": {},
   "outputs": [],
   "source": []
  }
 ],
 "metadata": {
  "kernelspec": {
   "display_name": "Python 3",
   "language": "python",
   "name": "python3"
  },
  "language_info": {
   "codemirror_mode": {
    "name": "ipython",
    "version": 3
   },
   "file_extension": ".py",
   "mimetype": "text/x-python",
   "name": "python",
   "nbconvert_exporter": "python",
   "pygments_lexer": "ipython3",
   "version": "3.6.6"
  }
 },
 "nbformat": 4,
 "nbformat_minor": 2
}
