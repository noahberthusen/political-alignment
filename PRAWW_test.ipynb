{
 "cells": [
  {
   "cell_type": "code",
   "execution_count": 1,
   "metadata": {},
   "outputs": [
    {
     "name": "stderr",
     "output_type": "stream",
     "text": [
      "Using TensorFlow backend.\n"
     ]
    }
   ],
   "source": [
    "import praw\n",
    "import numpy as np\n",
    "import pandas as pd\n",
    "from keras.preprocessing.text import Tokenizer\n",
    "from keras.preprocessing.sequence import pad_sequences"
   ]
  },
  {
   "cell_type": "code",
   "execution_count": 51,
   "metadata": {},
   "outputs": [],
   "source": [
    "class PRAWW:\n",
    "    common_words = [\"http\",\"https\",\"com\",\"www\",\"imgur\",\"r\",\"a\",\"about\",\"all\",\"are\",\"an\",\"also\",\"and\",\"as\",\"at\",\"be\",\"because\",\"but\",\"by\",\"can\",\"come\",\"could\",\"day\",\"do\",\"deleted\",\"even\",\"find\",\"first\",\"for\",\"from\",\"get\",\"give\",\"go\",\"have\",\"he\",\"her\",\"here\",\"him\",\"has\",\"his\",\"how\",\"i\",\"is\",\"if\",\"in\",\"into\",\"it\",\"its\",\"it's\",\"i'm\",\"just\",\"know\",\"like\",\"look\",\"make\",\"man\",\"many\",\"me\",\"more\",\"my\",\"new\",\"no\",\"not\",\"now\",\"of\",\"on\",\"one\",\"only\",\"or\",\"other\",\"our\",\"out\",\"people\",\"say\",\"see\",\"she\",\"so\",\"some\",\"take\",\"tell\",\"than\",\"that\",\"the\",\"their\",\"them\",\"then\",\"there\",\"these\",\"they\",\"thing\",\"think\",\"this\",\"those\",\"time\",\"to\",\"two\",\"up\",\"use\",\"very\",\"want\",\"was\",\"way\",\"we\",\"were\",\"well\",\"what\",\"when\",\"which\",\"who\",\"will\",\"with\",\"would\",\"year\",\"you\",\"your\"]\n",
    "\n",
    "    def __init__(self):\n",
    "        self.reddit = praw.Reddit(client_id='Wa_QQy6c8J6w_Q',\n",
    "                     client_secret='i7XCwT6iYlE4O1wLqjJCfDRsFV0',\n",
    "                     user_agent='diggity_diggity_doge')\n",
    "        self.word_count = 0\n",
    "\n",
    "    def get_comments_top_year(self, subreddit, number, group):\n",
    "        texts = []\n",
    "        labels = []\n",
    "        for submission in self.reddit.subreddit(subreddit).top('year', limit=number):\n",
    "            submission.comment_sort = 'top'\n",
    "            submission.comments.replace_more(limit=0)\n",
    "            for top_level_comment in submission.comments:\n",
    "                texts.append(self.parse_comment(top_level_comment.body))\n",
    "                labels.append(group)\n",
    "        return (texts, labels)\n",
    "\n",
    "    def get_comments_top_all(self, subreddit, number, group):\n",
    "        texts = []\n",
    "        labels = []\n",
    "        for submission in self.reddit.subreddit(subreddit).top(limit=number):\n",
    "            submission.comment_sort = 'top'\n",
    "            submission.comments.replace_more(limit=0)\n",
    "            for top_level_comment in submission.comments:\n",
    "                texts.append(self.parse_comment(top_level_comment.body))\n",
    "                labels.append(group)\n",
    "        return (texts, labels)\n",
    "\n",
    "    def get_comments_hot(self, subreddit, number, group):\n",
    "        texts = []\n",
    "        labels = []\n",
    "        for submission in self.reddit.subreddit(subreddit).hot(limit=number):\n",
    "            submission.comment_sort = 'top'\n",
    "            submission.comments.replace_more(limit=0)\n",
    "            for top_level_comment in submission.comments:\n",
    "                texts.append(self.parse_comment(top_level_comment.body))\n",
    "                labels.append(group)\n",
    "        return (texts, labels)\n",
    "    \n",
    "\n",
    "    def parse_comment(self, comment):\n",
    "        comment_arr = []\n",
    "        new_comment = comment.translate ({ord(c): \" \" for c in \"!@#$%^&*()[]{};:,./<>?\\|`~-=_+\"})\n",
    "        for word in new_comment.split():\n",
    "            self.word_count = self.word_count + 1\n",
    "            if word.lower() not in self.common_words:\n",
    "                comment_arr.append(word.lower())\n",
    "        return \" \".join(comment_arr)\n",
    "\n",
    "\n",
    "    def tokenize_words(self, texts):\n",
    "        max_words = 10000\n",
    "\n",
    "        tokenizer = Tokenizer(num_words=max_words)\n",
    "        tokenizer.fit_on_texts(texts)\n",
    "        return tokenizer    \n",
    "\n",
    "    def generate_occurance_data(self, tokenizer):\n",
    "        word_counts = tokenizer.word_counts\n",
    "        sorted_by_value = sorted(tokenizer.word_counts.items(), key=lambda kv: kv[1])\n",
    "\n",
    "        data = pd.DataFrame(sorted_by_value, columns=['word', 'occurance']).tail(25)\n",
    "        data['occurance'] = data['occurance']/self.word_count\n",
    "        data.set_index(\"word\",drop=True,inplace=True)\n",
    "        return data\n"
   ]
  },
  {
   "cell_type": "code",
   "execution_count": 54,
   "metadata": {},
   "outputs": [
    {
     "name": "stdout",
     "output_type": "stream",
     "text": [
      "(3807, 1)\n"
     ]
    },
    {
     "data": {
      "text/plain": [
       "<matplotlib.axes._subplots.AxesSubplot at 0x1a5c1d88e10>"
      ]
     },
     "execution_count": 54,
     "metadata": {},
     "output_type": "execute_result"
    },
    {
     "data": {
      "image/png": "[encoded data removed]",
      "text/plain": [
       "<Figure size 432x288 with 1 Axes>"
      ]
     },
     "metadata": {},
     "output_type": "display_data"
    }
   ],
   "source": [
    "p = PRAWW()\n",
    "(texts, labels) = p.get_comments_top_year('me_irl', 30, 0)\n",
    "print(pd.DataFrame(texts).shape)\n",
    "token = p.tokenize_words(texts)\n",
    "data = p.generate_occurance_data(token)\n",
    "data.plot(kind='bar')"
   ]
  },
  {
   "cell_type": "code",
   "execution_count": 16,
   "metadata": {},
   "outputs": [
    {
     "data": {
      "text/plain": [
       "820    0.002308\n",
       "821    0.002308\n",
       "822    0.002308\n",
       "823    0.002692\n",
       "824    0.002692\n",
       "825    0.002692\n",
       "826    0.002692\n",
       "827    0.003077\n",
       "828    0.003077\n",
       "829    0.003077\n",
       "830    0.003077\n",
       "831    0.003462\n",
       "832    0.003462\n",
       "833    0.003462\n",
       "834    0.004231\n",
       "835    0.004231\n",
       "836    0.004231\n",
       "837    0.004615\n",
       "838    0.004615\n",
       "839    0.005000\n",
       "840    0.005769\n",
       "841    0.006154\n",
       "842    0.006538\n",
       "843    0.008077\n",
       "844    0.009615\n",
       "Name: count, dtype: float64"
      ]
     },
     "execution_count": 16,
     "metadata": {},
     "output_type": "execute_result"
    }
   ],
   "source": [
    "data"
   ]
  },
  {
   "cell_type": "code",
   "execution_count": null,
   "metadata": {},
   "outputs": [],
   "source": []
  }
 ],
 "metadata": {
  "kernelspec": {
   "display_name": "Python 3",
   "language": "python",
   "name": "python3"
  },
  "language_info": {
   "codemirror_mode": {
    "name": "ipython",
    "version": 3
   },
   "file_extension": ".py",
   "mimetype": "text/x-python",
   "name": "python",
   "nbconvert_exporter": "python",
   "pygments_lexer": "ipython3",
   "version": "3.6.6"
  }
 },
 "nbformat": 4,
 "nbformat_minor": 2
}
